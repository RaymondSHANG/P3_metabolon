{
 "cells": [
  {
   "cell_type": "code",
   "execution_count": 1,
   "metadata": {},
   "outputs": [
    {
     "name": "stdout",
     "output_type": "stream",
     "text": [
      "3.12.7 | packaged by Anaconda, Inc. | (main, Oct  4 2024, 08:22:19) [Clang 14.0.6 ]\n",
      "imported pandas and numpy\n"
     ]
    }
   ],
   "source": [
    "import sys\n",
    "import pandas as pd\n",
    "import numpy as np\n",
    "print(sys.version)\n",
    "print(\"imported pandas and numpy\")"
   ]
  },
  {
   "cell_type": "markdown",
   "metadata": {},
   "source": [
    "# File contents\n",
    "The raw data were from ../data/*\n",
    "Files include:\n",
    "1. UNAZ-03-24VWCLP+ BRAIN DATA TABLES (GLOBAL).XLSX: Global metabolite\n",
    "2. UNAZ-03-24VWCLP+ BRAIN HEATMAP (CLP).XLSX\n",
    "3. UNAZ-03-24VWCLP+ BRAIN HEATMAP (GLOBAL).XLSX\n",
    "4. UNAZ-03-24VWCLP+ BRAIN SIX TAB FILE (CLP DATA).XLSX\n",
    "5. UNAZ-03-24VWCLP+ PLASMA DATA TABLES (GLOBAL).XLSX\n",
    "6. UNAZ-03-24VWCLP+ PLASMA HEATMAP (CLP).XLSX\n",
    "7. UNAZ-03-24VWCLP+ PLASMA HEATMAP (GLOBAL).XLSX\n",
    "8. UNAZ-03-24VWCLP+ PLASMA SIX TAB FILE (CLP DATA).XLSX\n",
    "9. UNAZ-03-24VWCLP+ REPORT_16DEC24.DOCX\n",
    "\n",
    "From the report, \"An equal volume of all plasma samples, and an equal mass of all cortex samples were prepared for analysis on each platform, therefore no additional normalization of the data was performed prior to statistical analysis\". \n",
    "So this processing file only deal with the meta data, extract the normalized expressions of each metabolites\n",
    "\n",
    "## Data processing from the report:\n",
    "*Batch Normalization*: To remove batch variability, for each metabolite, the values in the experimental samples are divided by the median of those samples in each instrument batch, giving each batch and thus the metabolite a median of one.  \n",
    "\n",
    "*Volumn Normalization*: For each sample, the Batch-normalized data is divided by the value of the normalizer. Since \"An equal volume of all plasma samples, and an equal mass of all cortex samples were prepared for analysis on each platform\", the value of the normalizer is 1. Then each metabolite is re-scaled to have median = 1 (divide the new values by the overall median for each metabolite). \n",
    "\n",
    "*Missing Value imputation*:For each metabolite, the minimum value across all batches in the median scaled data is imputed for the missing values\n",
    "\n",
    "*log transformation*:The Batch-norm-Imputed Data (or protein, volume, etc. normalized data if applicable) is transformed using the natural log. Metabolomic data typically displays a log-normal distribution, therefore, the log-transformed data is used for statistical analyses.\n"
   ]
  },
  {
   "attachments": {},
   "cell_type": "markdown",
   "metadata": {},
   "source": [
    "# Quant 500 Materials and Methods\n",
    "Kit Description:\n",
    "The MxP® Quant 500 assay quantifies over 500 metabolites from twenty-six analyte groups: \n",
    "\n",
    "|UPLC Analytes|FIA Analytes|\n",
    "|---|---|\n",
    "|alkaloids|acylcarnitines\n",
    "|amine oxides|lysophosphatidylcholines\n",
    "|amino acids|phosphatidylcholines\n",
    "|amino acids related\t\t|sphingomyelins\n",
    "|bile acids|ceramides\n",
    "|biogenic amines|dihydroceramides\n",
    "|carbohydrates and related\t|hexosylceramides\n",
    "|carboxylic acids|dihexosylceramides\n",
    "|cresols|trihexosylceramides\n",
    "|fatty acids|cholesteryl esters\n",
    "|hormones and related|diglycerides\n",
    "|indoles and derivatives|triglycerides\n",
    "|nucleobases and related|\t\n",
    "|vitamins and cofactors|\n",
    "\n",
    "The Q500 kit includes all requisite calibration standards, internal standards, and QC samples.  The use of these standards according to the detailed analysis protocol which was validated in Biocrates’ lab in Austria assures assay harmonization and standardization within a project, across projects, and across laboratories.  Selective analyte detection is accomplished by use of a triple quadrupole tandem mass spectrometer operated in Multiple Reaction Monitoring (MRM) mode in which specific precursor to product ion transitions are measured for every analyte and stable isotope labeled internal standard.\n"
   ]
  },
  {
   "attachments": {},
   "cell_type": "markdown",
   "metadata": {},
   "source": [
    "## Data file description\n",
    "\n",
    "### Table 2. Key to the Analyte Status Columns Used in the 6030 Data Tables Valid\n",
    "|Status Value|Description|\n",
    "|---|---|\n",
    "|Valid|Calculated concentrations are based on a standard curve of the analyte listed.  (Not all analytes are contained in the calibration standards provided by Biocrates.  Therefore, results for some analytes will be coded as Semi-Quantitative.)|\n",
    "|LowestCS|The value is greater than the LOD but less than the Biocrates-defined lowest calibration standard.  These values should be considered reliable except for analytes for which the %CV observed for the pooled sample was greater than 25%.|\n",
    "|HighestCS|Greater than the highest calibration standard|\n",
    "|`<`LOD | Less than the Lower Limit of Detection. The LODs were given by Biocrates for the UPLC analytes not determined using FDA guidelines for a Waters TQ-XS or Sciex 6500+ mass spectrometer.  FIA LODs are calculated for each plate using the Blank samples with Internal Standard.|\n",
    "|Internal Standard out of range|The internal standard peak area for this analyte was outside of the normal range. (Not all analytes have internal standards.)|\n",
    "|No Interception or NA|No peak was detected in the chromatogram at the appropriate retention time for this analyte.  For statistical analyses apply the same value used for `<`LOD|\n",
    "|NA (Metabolism Indicator Status)|Incomplete Metabolism Indicator|\n",
    "\n",
    "### Table 3. Key to the Analyte Classifications Used in the 6030 Data Tables\n",
    "|Value|Description|\n",
    "|---|---|\n",
    "|Quantitative|Validation criteria fulfilled.  Biocrates have verified the precision (CV) and accuracy in their lab.  For UPLC analytes calculated concentrations are based on a seven-point standard curve of the analyte listed.  (Not all analytes are contained in the calibration standards provided by Biocrates.  Therefore, results for some analytes will not be coded as Quantitative.)  For FIA analytes concentrations are based on a single-point calibration.|\n",
    "|Quantitative with Restrictions|Results are “Quantitative” but have poorer precision (CV=15-30%) and/or poorer accuracy (accuracy=15-30%)|\n",
    "|Relative Quantitative|FIA analytes only:  precise (CV<15%) but accuracy not verified.  Internal one-point calibration.|\n",
    "|Not Validated|Analyte not tested during validation|\n",
    "\n",
    "### Table 4. Identification of Sample Types contained within the data tables\n",
    "|Sample Identification|Customer Sample Identification|Number Extracted on Each Plate|Number of Injections/Extraction|Purpose|\n",
    "|---|---|---|---|---|\n",
    "|101|6030 Plasma SPQC|1|3|Pool of 76 plasma study samples (from Plate 1). QC representative of the study samples used to measure sample preparation and UPLC/MS/MS variability.  Can also be used for batch correction or normalization.|\n",
    "|103|6030 Brain SPQC|1|3|Pool of 58 brain study samples. QC representative of the study samples used to measure sample preparation and UPLC/MS/MS variability.  Can also be used for batch correction or normalization.|\n",
    "|104|6030 Liver SPQC|1|3|Pool 57 liver study samples. QC representative of the study samples used to measure sample preparation and UPLC/MS/MS variability.  Can also be used for batch correction or normalization.|\n",
    "|102|NIST SRM 1950|2|1|Human plasma pool supplied by National Institutes of Science and Technology as a <b>Standard References Material</b>. QC to measure sample preparation and UPLC/MS/MS variability.|\n",
    "|Numbers in Column D of data table|Identifiers on sample tubes|1|1|Customer Samples|"
   ]
  },
  {
   "attachments": {},
   "cell_type": "markdown",
   "metadata": {},
   "source": [
    "# Data Processing"
   ]
  },
  {
   "cell_type": "code",
   "execution_count": 2,
   "metadata": {},
   "outputs": [
    {
     "name": "stdout",
     "output_type": "stream",
     "text": [
      "  SampleID     Sex   Apoe        Age             Fur_Condition_Notes  \\\n",
      "1     S864    Male  APOE4  18.779754      ok, hair loss on underside   \n",
      "2     S870  Female  APOE4  18.779754  bad, lots of fat around organs   \n",
      "3     S947  Female  APOE3  18.615595                            good   \n",
      "4     S948  Female  APOE3  18.615595                            good   \n",
      "\n",
      "  Date_of_Birth  Necropsy_Date  \n",
      "1    2019-02-09          44077  \n",
      "2    2019-02-09          44077  \n",
      "3    2019-02-19          44082  \n",
      "4    2019-02-19          44082  \n"
     ]
    }
   ],
   "source": [
    "df_18m = pd.read_excel(\"../data/APOE tissues for metabolomics.xlsx\",sheet_name=0,header=0,dtype={'Animal_NAME':str,'Necropsy_Age_months':float})\n",
    "df_18m.rename(columns={'Animal_NAME':'SampleID','Genotype':'Apoe','Necropsy_Age_months':'Age'},inplace=True)\n",
    "df_18m=df_18m[['SampleID','Sex','Apoe','Age','Fur_Condition_Notes','Date_of_Birth','Necropsy_Date']]\n",
    "df_18m[['SampleID']]='S'+df_18m[['SampleID']]\n",
    "print(df_18m.iloc[1:5,:])"
   ]
  },
  {
   "cell_type": "code",
   "execution_count": 3,
   "metadata": {},
   "outputs": [
    {
     "name": "stdout",
     "output_type": "stream",
     "text": [
      "Index(['SampleID', 'Sex', 'Apoe', 'Age', 'Fur_Condition_Notes',\n",
      "       'Date_of_Birth', 'Necropsy_Date'],\n",
      "      dtype='object')\n"
     ]
    }
   ],
   "source": [
    "print(df_18m.columns)"
   ]
  },
  {
   "cell_type": "code",
   "execution_count": 4,
   "metadata": {},
   "outputs": [],
   "source": [
    "dataFileName=\"../data/6030 Q500 Brain Data.xlsx\""
   ]
  },
  {
   "attachments": {},
   "cell_type": "markdown",
   "metadata": {},
   "source": [
    "# Data Processing\n",
    "We recommend data preprocessing which includes the following steps. (This preprocessing has been performed in the Preprocessed Log2 tab.)  First, analytes with a high percentage of missing values were removed from the dataset.  A standard cutoff for a small sample set was set to >50% of the data is missing, the analyte was removed.  It should be noted that in a case-control study with severe metabolite dysregulation or samples from different species, a high level of missing values may be observed in some samples.  Second, the remaining missing values were filled in with half the limit of detection (LOD/2). This is appropriate because the main cause of ‘missing data’ in the targeted metabolomics workflows is very low concentrations of the analyte. Next, analytes in which the calculated %CV for the SPQC was >30% were removed. The final preprocessing step recommended was to log2 transform the data. This is recommended prior to hypothesis testing because most metabolomics data is log-normal.\n",
    "\n",
    "Rows 4 through 9 list the Lower Limit of Detection (LOD) values calculated by MetIDQ for FIA per plate, Lowest Calibration Standard, and Highest Calibration Standard for each FIA analyte, respectively.  Rows 10 through 12 list the Lower Limit of Detection values calculated by METIDQ, Lowest Calibration Standard, and Highest Calibration Standard for each UPLC analyte, respectively.  Analyte Classifications (see Table 3 in the Appendix) list the validation status of each analyte in row 14. "
   ]
  },
  {
   "cell_type": "code",
   "execution_count": 5,
   "metadata": {},
   "outputs": [],
   "source": [
    "df1=pd.read_excel(dataFileName,sheet_name=0,header=0,skiprows=1,usecols=\"K:OC\")\n",
    "#print(analytes_meta)\n",
    "col_names=df1.columns  \n",
    "analytes_meta=df1.iloc[0:12,col_names.str.contains(\"Status\")==False]"
   ]
  },
  {
   "cell_type": "code",
   "execution_count": 6,
   "metadata": {},
   "outputs": [
    {
     "data": {
      "text/html": [
       "<div>\n",
       "<style scoped>\n",
       "    .dataframe tbody tr th:only-of-type {\n",
       "        vertical-align: middle;\n",
       "    }\n",
       "\n",
       "    .dataframe tbody tr th {\n",
       "        vertical-align: top;\n",
       "    }\n",
       "\n",
       "    .dataframe thead th {\n",
       "        text-align: right;\n",
       "    }\n",
       "</style>\n",
       "<table border=\"1\" class=\"dataframe\">\n",
       "  <thead>\n",
       "    <tr style=\"text-align: right;\">\n",
       "      <th></th>\n",
       "      <th>Injection Number</th>\n",
       "      <th>C0</th>\n",
       "      <th>C2</th>\n",
       "      <th>C3</th>\n",
       "      <th>C3-DC (C4-OH)</th>\n",
       "      <th>C3-OH</th>\n",
       "      <th>C3:1</th>\n",
       "      <th>C4</th>\n",
       "      <th>C4:1</th>\n",
       "      <th>C5</th>\n",
       "      <th>...</th>\n",
       "      <th>DG(16:0_18:1)</th>\n",
       "      <th>DG(16:0_18:2)</th>\n",
       "      <th>DG(16:0_20:0)</th>\n",
       "      <th>DG(16:0_20:3)</th>\n",
       "      <th>DG(16:0_20:4)</th>\n",
       "      <th>DG(16:1_18:0)</th>\n",
       "      <th>DG(16:1_18:1)</th>\n",
       "      <th>DG(16:1_18:2)</th>\n",
       "      <th>DG(16:1_20:0)</th>\n",
       "      <th>DG(17:0_17:1)</th>\n",
       "    </tr>\n",
       "  </thead>\n",
       "  <tbody>\n",
       "    <tr>\n",
       "      <th>0</th>\n",
       "      <td>Class</td>\n",
       "      <td>Acylcarnitines</td>\n",
       "      <td>Acylcarnitines</td>\n",
       "      <td>Acylcarnitines</td>\n",
       "      <td>Acylcarnitines</td>\n",
       "      <td>Acylcarnitines</td>\n",
       "      <td>Acylcarnitines</td>\n",
       "      <td>Acylcarnitines</td>\n",
       "      <td>Acylcarnitines</td>\n",
       "      <td>Acylcarnitines</td>\n",
       "      <td>...</td>\n",
       "      <td>Diacylglycerols</td>\n",
       "      <td>Diacylglycerols</td>\n",
       "      <td>Diacylglycerols</td>\n",
       "      <td>Diacylglycerols</td>\n",
       "      <td>Diacylglycerols</td>\n",
       "      <td>Diacylglycerols</td>\n",
       "      <td>Diacylglycerols</td>\n",
       "      <td>Diacylglycerols</td>\n",
       "      <td>Diacylglycerols</td>\n",
       "      <td>Diacylglycerols</td>\n",
       "    </tr>\n",
       "    <tr>\n",
       "      <th>1</th>\n",
       "      <td>FIA LOD Plate 1 (1035442711-1) [µM]</td>\n",
       "      <td>1.52</td>\n",
       "      <td>0.117</td>\n",
       "      <td>0.0018</td>\n",
       "      <td>0.0591</td>\n",
       "      <td>0.171</td>\n",
       "      <td>0.014</td>\n",
       "      <td>0.0621</td>\n",
       "      <td>0.01</td>\n",
       "      <td>0.0057</td>\n",
       "      <td>...</td>\n",
       "      <td>0.142</td>\n",
       "      <td>0.211</td>\n",
       "      <td>0.501</td>\n",
       "      <td>0.212</td>\n",
       "      <td>0.265</td>\n",
       "      <td>0.471</td>\n",
       "      <td>0.273</td>\n",
       "      <td>0.265</td>\n",
       "      <td>0.25</td>\n",
       "      <td>0.148</td>\n",
       "    </tr>\n",
       "    <tr>\n",
       "      <th>2</th>\n",
       "      <td>FIA LOD Plate 2 (1035442778-1) [µM]</td>\n",
       "      <td>1.91</td>\n",
       "      <td>0.0844</td>\n",
       "      <td>0.01</td>\n",
       "      <td>0.0236</td>\n",
       "      <td>0.0718</td>\n",
       "      <td>0.01</td>\n",
       "      <td>0.0333</td>\n",
       "      <td>0.01</td>\n",
       "      <td>0.01</td>\n",
       "      <td>...</td>\n",
       "      <td>0.0982</td>\n",
       "      <td>0.0067</td>\n",
       "      <td>0.12</td>\n",
       "      <td>0.106</td>\n",
       "      <td>0.123</td>\n",
       "      <td>0.01</td>\n",
       "      <td>0.857</td>\n",
       "      <td>0.0854</td>\n",
       "      <td>0.0174</td>\n",
       "      <td>0.009</td>\n",
       "    </tr>\n",
       "    <tr>\n",
       "      <th>3</th>\n",
       "      <td>FIA LOD Plate 3 (1035442759-1) [µM]</td>\n",
       "      <td>1.65</td>\n",
       "      <td>0.139</td>\n",
       "      <td>0.0113</td>\n",
       "      <td>0.0155</td>\n",
       "      <td>0.105</td>\n",
       "      <td>0.127</td>\n",
       "      <td>0.0384</td>\n",
       "      <td>0.01</td>\n",
       "      <td>0.0028</td>\n",
       "      <td>...</td>\n",
       "      <td>0.0197</td>\n",
       "      <td>0.0814</td>\n",
       "      <td>0.0894</td>\n",
       "      <td>0.157</td>\n",
       "      <td>0.188</td>\n",
       "      <td>0.01</td>\n",
       "      <td>0.119</td>\n",
       "      <td>0.0726</td>\n",
       "      <td>0.01</td>\n",
       "      <td>0.0623</td>\n",
       "    </tr>\n",
       "    <tr>\n",
       "      <th>4</th>\n",
       "      <td>FIA LOD Plate 4 (1035442730-1) [µM]</td>\n",
       "      <td>1.85</td>\n",
       "      <td>0.124</td>\n",
       "      <td>0.0019</td>\n",
       "      <td>0.0765</td>\n",
       "      <td>0.221</td>\n",
       "      <td>0.0249</td>\n",
       "      <td>0.0649</td>\n",
       "      <td>0.01</td>\n",
       "      <td>0.0103</td>\n",
       "      <td>...</td>\n",
       "      <td>0.308</td>\n",
       "      <td>0.283</td>\n",
       "      <td>0.681</td>\n",
       "      <td>0.399</td>\n",
       "      <td>0.443</td>\n",
       "      <td>0.35</td>\n",
       "      <td>1.09</td>\n",
       "      <td>0.221</td>\n",
       "      <td>0.402</td>\n",
       "      <td>0.197</td>\n",
       "    </tr>\n",
       "    <tr>\n",
       "      <th>5</th>\n",
       "      <td>FIA Lowest CS [µM]</td>\n",
       "      <td>5</td>\n",
       "      <td>0.9</td>\n",
       "      <td>0.9</td>\n",
       "      <td>0</td>\n",
       "      <td>0.1</td>\n",
       "      <td>0</td>\n",
       "      <td>0.03</td>\n",
       "      <td>0</td>\n",
       "      <td>0.03</td>\n",
       "      <td>...</td>\n",
       "      <td>0</td>\n",
       "      <td>0</td>\n",
       "      <td>0</td>\n",
       "      <td>0</td>\n",
       "      <td>0</td>\n",
       "      <td>0.2</td>\n",
       "      <td>0</td>\n",
       "      <td>0</td>\n",
       "      <td>0</td>\n",
       "      <td>0</td>\n",
       "    </tr>\n",
       "    <tr>\n",
       "      <th>6</th>\n",
       "      <td>FIA Highest CS [µM]</td>\n",
       "      <td>120</td>\n",
       "      <td>20</td>\n",
       "      <td>4</td>\n",
       "      <td>0</td>\n",
       "      <td>1</td>\n",
       "      <td>0</td>\n",
       "      <td>6</td>\n",
       "      <td>0</td>\n",
       "      <td>6</td>\n",
       "      <td>...</td>\n",
       "      <td>0</td>\n",
       "      <td>0</td>\n",
       "      <td>0</td>\n",
       "      <td>0</td>\n",
       "      <td>0</td>\n",
       "      <td>1</td>\n",
       "      <td>0</td>\n",
       "      <td>0</td>\n",
       "      <td>0</td>\n",
       "      <td>0</td>\n",
       "    </tr>\n",
       "    <tr>\n",
       "      <th>7</th>\n",
       "      <td>UPLC LOD  [µM]</td>\n",
       "      <td>0</td>\n",
       "      <td>0</td>\n",
       "      <td>0</td>\n",
       "      <td>0</td>\n",
       "      <td>0</td>\n",
       "      <td>0</td>\n",
       "      <td>0</td>\n",
       "      <td>0</td>\n",
       "      <td>0</td>\n",
       "      <td>...</td>\n",
       "      <td>0</td>\n",
       "      <td>0</td>\n",
       "      <td>0</td>\n",
       "      <td>0</td>\n",
       "      <td>0</td>\n",
       "      <td>0</td>\n",
       "      <td>0</td>\n",
       "      <td>0</td>\n",
       "      <td>0</td>\n",
       "      <td>0</td>\n",
       "    </tr>\n",
       "    <tr>\n",
       "      <th>8</th>\n",
       "      <td>UPLC Lowest CS [µM]</td>\n",
       "      <td>NaN</td>\n",
       "      <td>NaN</td>\n",
       "      <td>NaN</td>\n",
       "      <td>NaN</td>\n",
       "      <td>NaN</td>\n",
       "      <td>NaN</td>\n",
       "      <td>NaN</td>\n",
       "      <td>NaN</td>\n",
       "      <td>NaN</td>\n",
       "      <td>...</td>\n",
       "      <td>NaN</td>\n",
       "      <td>NaN</td>\n",
       "      <td>NaN</td>\n",
       "      <td>NaN</td>\n",
       "      <td>NaN</td>\n",
       "      <td>NaN</td>\n",
       "      <td>NaN</td>\n",
       "      <td>NaN</td>\n",
       "      <td>NaN</td>\n",
       "      <td>NaN</td>\n",
       "    </tr>\n",
       "    <tr>\n",
       "      <th>9</th>\n",
       "      <td>UPLC Highest CS [µM]</td>\n",
       "      <td>NaN</td>\n",
       "      <td>NaN</td>\n",
       "      <td>NaN</td>\n",
       "      <td>NaN</td>\n",
       "      <td>NaN</td>\n",
       "      <td>NaN</td>\n",
       "      <td>NaN</td>\n",
       "      <td>NaN</td>\n",
       "      <td>NaN</td>\n",
       "      <td>...</td>\n",
       "      <td>NaN</td>\n",
       "      <td>NaN</td>\n",
       "      <td>NaN</td>\n",
       "      <td>NaN</td>\n",
       "      <td>NaN</td>\n",
       "      <td>NaN</td>\n",
       "      <td>NaN</td>\n",
       "      <td>NaN</td>\n",
       "      <td>NaN</td>\n",
       "      <td>NaN</td>\n",
       "    </tr>\n",
       "    <tr>\n",
       "      <th>10</th>\n",
       "      <td>OP</td>\n",
       "      <td>MXP500F-0-8302</td>\n",
       "      <td>MXP500F-0-8302</td>\n",
       "      <td>MXP500F-0-8302</td>\n",
       "      <td>MXP500F-0-8302</td>\n",
       "      <td>MXP500F-0-8302</td>\n",
       "      <td>MXP500F-0-8302</td>\n",
       "      <td>MXP500F-0-8302</td>\n",
       "      <td>MXP500F-0-8302</td>\n",
       "      <td>MXP500F-0-8302</td>\n",
       "      <td>...</td>\n",
       "      <td>MXP500F-0-8302</td>\n",
       "      <td>MXP500F-0-8302</td>\n",
       "      <td>MXP500F-0-8302</td>\n",
       "      <td>MXP500F-0-8302</td>\n",
       "      <td>MXP500F-0-8302</td>\n",
       "      <td>MXP500F-0-8302</td>\n",
       "      <td>MXP500F-0-8302</td>\n",
       "      <td>MXP500F-0-8302</td>\n",
       "      <td>MXP500F-0-8302</td>\n",
       "      <td>MXP500F-0-8302</td>\n",
       "    </tr>\n",
       "    <tr>\n",
       "      <th>11</th>\n",
       "      <td>Analyte Classification</td>\n",
       "      <td>Quantitative</td>\n",
       "      <td>Quantitative</td>\n",
       "      <td>Quantitative</td>\n",
       "      <td>Relative Quantitative</td>\n",
       "      <td>Not Validated</td>\n",
       "      <td>Not Validated</td>\n",
       "      <td>Quantitative</td>\n",
       "      <td>Not Validated</td>\n",
       "      <td>Quantitative</td>\n",
       "      <td>...</td>\n",
       "      <td>Relative Quantitative</td>\n",
       "      <td>Relative Quantitative</td>\n",
       "      <td>Not Validated</td>\n",
       "      <td>Not Validated</td>\n",
       "      <td>Not Validated</td>\n",
       "      <td>Relative Quantitative</td>\n",
       "      <td>Not Validated</td>\n",
       "      <td>Relative Quantitative</td>\n",
       "      <td>Not Validated</td>\n",
       "      <td>Not Validated</td>\n",
       "    </tr>\n",
       "  </tbody>\n",
       "</table>\n",
       "<p>12 rows × 192 columns</p>\n",
       "</div>"
      ],
      "text/plain": [
       "                       Injection Number              C0              C2  \\\n",
       "0                                 Class  Acylcarnitines  Acylcarnitines   \n",
       "1   FIA LOD Plate 1 (1035442711-1) [µM]            1.52           0.117   \n",
       "2   FIA LOD Plate 2 (1035442778-1) [µM]            1.91          0.0844   \n",
       "3   FIA LOD Plate 3 (1035442759-1) [µM]            1.65           0.139   \n",
       "4   FIA LOD Plate 4 (1035442730-1) [µM]            1.85           0.124   \n",
       "5                    FIA Lowest CS [µM]               5             0.9   \n",
       "6                   FIA Highest CS [µM]             120              20   \n",
       "7                        UPLC LOD  [µM]               0               0   \n",
       "8                   UPLC Lowest CS [µM]             NaN             NaN   \n",
       "9                  UPLC Highest CS [µM]             NaN             NaN   \n",
       "10                                   OP  MXP500F-0-8302  MXP500F-0-8302   \n",
       "11              Analyte Classification    Quantitative    Quantitative    \n",
       "\n",
       "                C3           C3-DC (C4-OH)           C3-OH            C3:1  \\\n",
       "0   Acylcarnitines          Acylcarnitines  Acylcarnitines  Acylcarnitines   \n",
       "1           0.0018                  0.0591           0.171           0.014   \n",
       "2             0.01                  0.0236          0.0718            0.01   \n",
       "3           0.0113                  0.0155           0.105           0.127   \n",
       "4           0.0019                  0.0765           0.221          0.0249   \n",
       "5              0.9                       0             0.1               0   \n",
       "6                4                       0               1               0   \n",
       "7                0                       0               0               0   \n",
       "8              NaN                     NaN             NaN             NaN   \n",
       "9              NaN                     NaN             NaN             NaN   \n",
       "10  MXP500F-0-8302          MXP500F-0-8302  MXP500F-0-8302  MXP500F-0-8302   \n",
       "11   Quantitative   Relative Quantitative    Not Validated   Not Validated   \n",
       "\n",
       "                C4            C4:1              C5  ...  \\\n",
       "0   Acylcarnitines  Acylcarnitines  Acylcarnitines  ...   \n",
       "1           0.0621            0.01          0.0057  ...   \n",
       "2           0.0333            0.01            0.01  ...   \n",
       "3           0.0384            0.01          0.0028  ...   \n",
       "4           0.0649            0.01          0.0103  ...   \n",
       "5             0.03               0            0.03  ...   \n",
       "6                6               0               6  ...   \n",
       "7                0               0               0  ...   \n",
       "8              NaN             NaN             NaN  ...   \n",
       "9              NaN             NaN             NaN  ...   \n",
       "10  MXP500F-0-8302  MXP500F-0-8302  MXP500F-0-8302  ...   \n",
       "11   Quantitative    Not Validated   Quantitative   ...   \n",
       "\n",
       "             DG(16:0_18:1)           DG(16:0_18:2)    DG(16:0_20:0)  \\\n",
       "0          Diacylglycerols         Diacylglycerols  Diacylglycerols   \n",
       "1                    0.142                   0.211            0.501   \n",
       "2                   0.0982                  0.0067             0.12   \n",
       "3                   0.0197                  0.0814           0.0894   \n",
       "4                    0.308                   0.283            0.681   \n",
       "5                        0                       0                0   \n",
       "6                        0                       0                0   \n",
       "7                        0                       0                0   \n",
       "8                      NaN                     NaN              NaN   \n",
       "9                      NaN                     NaN              NaN   \n",
       "10          MXP500F-0-8302          MXP500F-0-8302   MXP500F-0-8302   \n",
       "11  Relative Quantitative   Relative Quantitative     Not Validated   \n",
       "\n",
       "      DG(16:0_20:3)    DG(16:0_20:4)           DG(16:1_18:0)    DG(16:1_18:1)  \\\n",
       "0   Diacylglycerols  Diacylglycerols         Diacylglycerols  Diacylglycerols   \n",
       "1             0.212            0.265                   0.471            0.273   \n",
       "2             0.106            0.123                    0.01            0.857   \n",
       "3             0.157            0.188                    0.01            0.119   \n",
       "4             0.399            0.443                    0.35             1.09   \n",
       "5                 0                0                     0.2                0   \n",
       "6                 0                0                       1                0   \n",
       "7                 0                0                       0                0   \n",
       "8               NaN              NaN                     NaN              NaN   \n",
       "9               NaN              NaN                     NaN              NaN   \n",
       "10   MXP500F-0-8302   MXP500F-0-8302          MXP500F-0-8302   MXP500F-0-8302   \n",
       "11    Not Validated    Not Validated  Relative Quantitative     Not Validated   \n",
       "\n",
       "             DG(16:1_18:2)    DG(16:1_20:0)    DG(17:0_17:1)  \n",
       "0          Diacylglycerols  Diacylglycerols  Diacylglycerols  \n",
       "1                    0.265             0.25            0.148  \n",
       "2                   0.0854           0.0174            0.009  \n",
       "3                   0.0726             0.01           0.0623  \n",
       "4                    0.221            0.402            0.197  \n",
       "5                        0                0                0  \n",
       "6                        0                0                0  \n",
       "7                        0                0                0  \n",
       "8                      NaN              NaN              NaN  \n",
       "9                      NaN              NaN              NaN  \n",
       "10          MXP500F-0-8302   MXP500F-0-8302   MXP500F-0-8302  \n",
       "11  Relative Quantitative     Not Validated    Not Validated  \n",
       "\n",
       "[12 rows x 192 columns]"
      ]
     },
     "execution_count": 6,
     "metadata": {},
     "output_type": "execute_result"
    }
   ],
   "source": [
    "analytes_meta"
   ]
  },
  {
   "cell_type": "code",
   "execution_count": 7,
   "metadata": {},
   "outputs": [],
   "source": [
    "import re\n",
    "df2=pd.read_excel(dataFileName,sheet_name=0,header=0,skiprows=1,usecols=\"A:J\",\n",
    "                            dtype = str)\n",
    "sample_start,sample_end=0,0#Start from row 12, end with \n",
    "spqc_start,spqc_end=0,0\n",
    "srm_start,srm_end=0,0\n",
    "tip=0\n",
    "for i,sampletype in enumerate(df2[\"Sample Type\"].isnull()):\n",
    "    if tip==0 and sampletype==False:\n",
    "        sample_start=i\n",
    "        tip=1\n",
    "    elif tip==1 and sampletype==True:\n",
    "        sample_end=i\n",
    "        tip=2\n",
    "    elif tip==2 and sampletype==False:\n",
    "        srm_start,tip=i,3\n",
    "    elif tip==3 and sampletype==True:\n",
    "        srm_end,tip=i,4\n",
    "    elif tip==4 and sampletype==False:\n",
    "        spqc_start,tip=i,5\n",
    "    elif tip==5 and sampletype==True:\n",
    "        spqc_end,tip=i,6\n",
    "if tip!=6:\n",
    "    spqc_end=i\n",
    "#Sample meta\n",
    "sample_meta=df2.iloc[sample_start:sample_end,]\n",
    "sample_meta=sample_meta.astype({'Well Position':'int',\n",
    "                                'Run Number':'int'})\n",
    "sample_meta=sample_meta.rename(columns={\"Customer Sample Identification\":\"SampleID\"})\n",
    "sample_meta[\"SampleID\"]=[\"S\"+re.sub('\\s.*$','',x) for x in sample_meta[\"SampleID\"].values]\n",
    "#Data df\n",
    "data_df=df1.iloc[sample_start:sample_end,col_names.str.contains(\"Status\")==False]\n",
    "data_df = data_df.iloc[:,1:]\n",
    "data_status=df1.iloc[sample_start:sample_end,col_names.str.contains(\"Status\")==True]\n",
    "#srm df\n",
    "srm_df=df1.iloc[srm_start:srm_end,col_names.str.contains(\"Status\")==False]\n",
    "srm_df = srm_df.iloc[:,1:]\n",
    "srm_status=df1.iloc[srm_start:srm_end,col_names.str.contains(\"Status\")==True]\n",
    "#spqc df\n",
    "spqc_df=df1.iloc[spqc_start:spqc_end,col_names.str.contains(\"Status\")==False]\n",
    "spqc_df = spqc_df.iloc[:,1:]\n",
    "spqc_status=df1.iloc[spqc_start:spqc_end,col_names.str.contains(\"Status\")==True]"
   ]
  },
  {
   "cell_type": "code",
   "execution_count": 8,
   "metadata": {},
   "outputs": [
    {
     "data": {
      "text/plain": [
       "(12, 70, 71, 79, 82, 94)"
      ]
     },
     "execution_count": 8,
     "metadata": {},
     "output_type": "execute_result"
    }
   ],
   "source": [
    "sample_start,sample_end,srm_start,srm_end,spqc_start,spqc_end"
   ]
  },
  {
   "cell_type": "code",
   "execution_count": 9,
   "metadata": {},
   "outputs": [],
   "source": [
    "#This part should deal with processing xlsx, extract the following\n",
    "#1.Data\n",
    "#2.Sample information (sample metadata)\n",
    "#3.Metabolyte metadata\n",
    "#4.The internal standard curves\n",
    "from typing import List\n",
    "import re\n",
    "def process_xlsx(excelF:str,sheetnumber:int,statustag=False)-> List[pd.DataFrame]:\n",
    "    #Load data frames\n",
    "    df=pd.read_excel(excelF,sheet_name=sheetnumber,header=0,skiprows=1,nrows=1)\n",
    "    df1=pd.read_excel(excelF,sheet_name=sheetnumber,header=0,skiprows=1,usecols=[i for i in range(10,df.shape[1])])\n",
    "    df2=pd.read_excel(excelF,sheet_name=sheetnumber,header=0,skiprows=1,usecols=[i for i in range(0,10)],dtype = str)\n",
    "    #Get analyte meta first\n",
    "    col_names=df1.columns  \n",
    "    analytes_meta=df1.iloc[0:12,col_names.str.contains(\"Status\")==False]\n",
    "    #Get Sample information\n",
    "    sample_start,sample_end=0,0#Start from row 12, end with \n",
    "    spqc_start,spqc_end=0,0\n",
    "    srm_start,srm_end=0,0\n",
    "    tip=0\n",
    "    for i,sampletype in enumerate(df2[\"Sample Type\"].isnull()):\n",
    "        if tip==0 and sampletype==False:\n",
    "            sample_start=i\n",
    "            tip=1\n",
    "        elif tip==1 and sampletype==True:\n",
    "            sample_end=i\n",
    "            tip=2\n",
    "        elif tip==2 and sampletype==False:\n",
    "            srm_start,tip=i,3\n",
    "        elif tip==3 and sampletype==True:\n",
    "            srm_end,tip=i,4\n",
    "        elif tip==4 and sampletype==False:\n",
    "            spqc_start,tip=i,5\n",
    "        elif tip==5 and sampletype==True:\n",
    "            spqc_end,tip=i,6\n",
    "\n",
    "    if tip==1:\n",
    "        sample_end=i\n",
    "    elif tip ==3:\n",
    "        srm_end=i\n",
    "    elif tip ==5:\n",
    "        spqc_end=i\n",
    "    #Sample meta\n",
    "    sample_meta=df2.iloc[sample_start:sample_end,]\n",
    "    sample_meta=sample_meta.astype({'Well Position':'int',\n",
    "                                    'Run Number':'int'})\n",
    "    sample_meta=sample_meta.rename(columns={\"Customer Sample Identification\":\"SampleID\"})\n",
    "    sample_meta[\"SampleID\"]=[\"S\"+re.sub('\\s.*$','',x) for x in sample_meta[\"SampleID\"].values]\n",
    "    #Data df\n",
    "    data_df=df1.iloc[sample_start:sample_end,col_names.str.contains(\"Status\")==False]\n",
    "    data_df = data_df.iloc[:,1:]\n",
    "    data_status=df1.iloc[sample_start:sample_end,col_names.str.contains(\"Status\")==True]\n",
    "    #srm df\n",
    "    srm_df=df1.iloc[srm_start:srm_end,col_names.str.contains(\"Status\")==False]\n",
    "    srm_df = srm_df.iloc[:,1:]\n",
    "    srm_status=df1.iloc[srm_start:srm_end,col_names.str.contains(\"Status\")==True]\n",
    "    #spqc df\n",
    "    spqc_df=df1.iloc[spqc_start:spqc_end,col_names.str.contains(\"Status\")==False]\n",
    "    spqc_df = spqc_df.iloc[:,1:]\n",
    "    spqc_status=df1.iloc[spqc_start:spqc_end,col_names.str.contains(\"Status\")==True]\n",
    "    if statustag:\n",
    "        return analytes_meta,sample_meta,data_df,data_status,srm_df,srm_status,spqc_df,spqc_status\n",
    "    else:\n",
    "        return analytes_meta,sample_meta,data_df,srm_df,spqc_df\n",
    "\n"
   ]
  },
  {
   "attachments": {},
   "cell_type": "markdown",
   "metadata": {},
   "source": [
    "## Process the raw data"
   ]
  },
  {
   "cell_type": "code",
   "execution_count": 10,
   "metadata": {},
   "outputs": [],
   "source": [
    "analytes1_meta,sample1_meta,data1_df,data1_status,srm1_df,srm1_status,spqc1_df,spqc1_status=process_xlsx(dataFileName,0,statustag=True)\n"
   ]
  },
  {
   "attachments": {},
   "cell_type": "markdown",
   "metadata": {},
   "source": [
    "## Dilution Factor Applied\n",
    "\n",
    "For analysis of the brain and liver samples, worksheet “Dilution Factor Applied” is the worksheet to use if you plan on performing your own preprocessing of the data to remove analytes with high levels of missing values, imputing missing values, and filtering based on %CV. The data on this worksheet has been corrected for the sample volume that was used. (The μM concentration and LOD data corrected with a dilution factor of 0.333 to reflect the extraction of 30 μL of each brain homogenate instead of 10 μL.)"
   ]
  },
  {
   "cell_type": "code",
   "execution_count": 11,
   "metadata": {},
   "outputs": [],
   "source": [
    "analytes2_meta,sample2_meta,data2_df,srm2_df,spqc2_df=process_xlsx(dataFileName,2)"
   ]
  },
  {
   "attachments": {},
   "cell_type": "markdown",
   "metadata": {},
   "source": [
    "## Remove Greater than 50 LOD\n",
    "\n",
    "Compounds with >50% missing values or not detectable were removed.  \n"
   ]
  },
  {
   "cell_type": "code",
   "execution_count": 12,
   "metadata": {},
   "outputs": [],
   "source": [
    "analytes3_meta,sample3_meta,data3_df,srm3_df,spqc3_df=process_xlsx(dataFileName,3)"
   ]
  },
  {
   "cell_type": "markdown",
   "metadata": {},
   "source": []
  },
  {
   "cell_type": "code",
   "execution_count": 13,
   "metadata": {},
   "outputs": [],
   "source": [
    "#analytes1_meta\n",
    "#sample1_meta\n",
    "#data1_df\n",
    "#data1_status\n",
    "#srm1_df\n",
    "#srm1_status\n",
    "#spqc2_df.dtypes\n",
    "\n",
    "#tmp=data3_df.columns[data3_df.columns.isin(data2_df.columns)==False]\n",
    "tmp=data2_df.columns[data2_df.columns.isin(data3_df.columns)==False]\n",
    "data2_rm=data2_df[tmp]\n",
    "tmp2=data3_df.columns[data3_df.columns.isin(data2_df.columns)==True]\n",
    "data2_keep=data2_df[tmp2]"
   ]
  },
  {
   "cell_type": "code",
   "execution_count": 14,
   "metadata": {},
   "outputs": [],
   "source": [
    "tmp\n",
    "#347 were missing in data3\n",
    "import numpy as np\n",
    "testrmLOD=[np.count_nonzero(np.logical_or(data2_rm.iloc[:,i].values=='<LOD', data2_rm.iloc[:,i].isnull().values))/data2_rm.shape[0] for i in range(data2_rm.shape[1])]"
   ]
  },
  {
   "cell_type": "code",
   "execution_count": 15,
   "metadata": {},
   "outputs": [],
   "source": [
    "testrmLOD=np.array(testrmLOD)"
   ]
  },
  {
   "cell_type": "code",
   "execution_count": 16,
   "metadata": {},
   "outputs": [
    {
     "data": {
      "text/plain": [
       "1.0"
      ]
     },
     "execution_count": 16,
     "metadata": {},
     "output_type": "execute_result"
    }
   ],
   "source": [
    "np.count_nonzero(testrmLOD>0.5)/len(testrmLOD)"
   ]
  },
  {
   "cell_type": "code",
   "execution_count": 17,
   "metadata": {},
   "outputs": [],
   "source": [
    "testkeepLOD=np.array(\n",
    "    [np.count_nonzero(np.logical_or(data2_keep.iloc[:,i].values=='<LOD', data2_keep.iloc[:,i].isnull().values))/data2_keep.shape[0] \n",
    "    for i in range(data2_keep.shape[1])])"
   ]
  },
  {
   "cell_type": "code",
   "execution_count": 18,
   "metadata": {},
   "outputs": [
    {
     "data": {
      "text/plain": [
       "0.0"
      ]
     },
     "execution_count": 18,
     "metadata": {},
     "output_type": "execute_result"
    }
   ],
   "source": [
    "np.count_nonzero(testkeepLOD>0.5)/len(testkeepLOD)"
   ]
  },
  {
   "cell_type": "code",
   "execution_count": 19,
   "metadata": {},
   "outputs": [
    {
     "data": {
      "text/plain": [
       "Index(['Trigonelline', 'Orn', 'PAG', 'GLCAS', 'TCA', 'Dopamine', 'AconAcid',\n",
       "       'DiCA(14:0)', 'Suc', 'Cer(d16:1/20:0)',\n",
       "       ...\n",
       "       'Cit Synthesis', 'OTC Deficiency (NBS)', 'Polyamine Synthesis',\n",
       "       'Putrescine Synthesis', 'GABR', 'Orn Synthesis', 'Glutaminolysis Rate',\n",
       "       'Sum of DH-Cer', 'Sum of LCFA-DH-Cer', 'Sum of VLCFA-DH-Cer'],\n",
       "      dtype='object', length=125)"
      ]
     },
     "execution_count": 19,
     "metadata": {},
     "output_type": "execute_result"
    }
   ],
   "source": [
    "data2_keep.columns[testkeepLOD>0]"
   ]
  },
  {
   "attachments": {},
   "cell_type": "markdown",
   "metadata": {},
   "source": [
    "## Remove Greater than 30 SPQC\n",
    "analytes/compounds with calculated %CVs for the SPQC (sample 101) >30% were removed. Values `<`LOD were replaced with LOD/2. \n",
    "From data3:\n",
    "\n",
    "1. Calculate %CV for each compound only based on spqc data.\n",
    "2. Remove compounds with %CV > 30 or no CV available"
   ]
  },
  {
   "cell_type": "code",
   "execution_count": 20,
   "metadata": {},
   "outputs": [],
   "source": [
    "filter1_spqc = [np.count_nonzero(np.logical_or(spqc3_df.iloc[:,i].isnull(),spqc3_df.iloc[:,i].values=='<LOD'))>0 for i in range(spqc3_df.shape[1])]"
   ]
  },
  {
   "cell_type": "code",
   "execution_count": 21,
   "metadata": {},
   "outputs": [
    {
     "data": {
      "text/plain": [
       "Index(['5-AVA', 'Orn', 'DiCA(14:0)', 'Cer(d16:1/20:0)', 'Cer(d18:1/14:0)',\n",
       "       'CE(15:1)', 'CE(17:0)', 'CE(18:0)', 'DG(14:1_18:1)', 'DG(16:0_18:2)',\n",
       "       ...\n",
       "       'Ratio of SGA to Hexose', 'LDH Activity', 'Sum of DH-Cer',\n",
       "       'Sum of LCFA-DH-Cer', 'Sum of VLCFA-DH-Cer', 'Sum of SFAs',\n",
       "       'Ratio of MUFA-PCs to SFA-PCs', 'Sum of PCs (aa)', 'Sum of SFA-PCs',\n",
       "       'Ratio of PCs (aa) to Choline'],\n",
       "      dtype='object', length=115)"
      ]
     },
     "execution_count": 21,
     "metadata": {},
     "output_type": "execute_result"
    }
   ],
   "source": [
    "spqc3_df.columns[filter1_spqc]"
   ]
  },
  {
   "cell_type": "code",
   "execution_count": 22,
   "metadata": {},
   "outputs": [],
   "source": [
    "#CV% > 30\n",
    "CV_threshold=30\n",
    "filter2_spqc=[filter1_spqc[i] or np.std(spqc3_df.iloc[:,i],ddof=1)/np.mean(spqc3_df.iloc[:,i])*100 >CV_threshold  for i in range(spqc3_df.shape[1])]"
   ]
  },
  {
   "cell_type": "code",
   "execution_count": 23,
   "metadata": {},
   "outputs": [
    {
     "name": "stderr",
     "output_type": "stream",
     "text": [
      "<ipython-input-23-c7115f4fe825>:1: FutureWarning: Support for multi-dimensional indexing (e.g. `obj[:, None]`) is deprecated and will be removed in a future version.  Convert to a numpy array before indexing instead.\n",
      "  spqc3_df.columns[filter2_spqc==False]\n"
     ]
    },
    {
     "data": {
      "text/plain": [
       "array([], shape=(0, 484), dtype=object)"
      ]
     },
     "execution_count": 23,
     "metadata": {},
     "output_type": "execute_result"
    }
   ],
   "source": [
    "spqc3_df.columns[filter2_spqc==False]"
   ]
  },
  {
   "cell_type": "code",
   "execution_count": 24,
   "metadata": {},
   "outputs": [
    {
     "data": {
      "text/plain": [
       "Index(['C0', 'C2', 'C3', 'C3-DC (C4-OH)', 'C3-OH', 'C4', 'C4:1', 'C5',\n",
       "       'C5-DC (C6-OH)', 'C5-M-DC',\n",
       "       ...\n",
       "       'Sum of MUFA-PCs', 'Sum of VLCFA-LysoPCs', 'Sum of Purines',\n",
       "       'Xanthine Synthesis', 'Ratio of SM-OHs to SM-Non OHs',\n",
       "       'Sum of LCFA-SMs', 'Sum of SM-Non OHs', 'Sum of SM-OHs', 'Sum of SMs',\n",
       "       'Sum of VLCFA-SMs'],\n",
       "      dtype='object', length=331)"
      ]
     },
     "execution_count": 24,
     "metadata": {},
     "output_type": "execute_result"
    }
   ],
   "source": [
    "spqc3_df.columns[~np.array(filter2_spqc)]"
   ]
  },
  {
   "cell_type": "code",
   "execution_count": 25,
   "metadata": {},
   "outputs": [],
   "source": [
    "data4_df_recal=data3_df.iloc[:,~np.array(filter2_spqc)]\n",
    "srm4_df_recal,spqc4_df_recal=srm3_df.iloc[:,~np.array(filter2_spqc)],spqc3_df.iloc[:,~np.array(filter2_spqc)]"
   ]
  },
  {
   "attachments": {},
   "cell_type": "markdown",
   "metadata": {},
   "source": [
    "## Replace values `<`LOD\n",
    "Values `<`LOD were replaced with LOD/2. \n",
    "To do so:\n",
    "- 1.Find i,j data_df.iloc[i,j].values=='<LOD'\n",
    "- 2.For jth compound, get the info weather it is FIA or UPLC based on their category row\n",
    "- 3.For i's row, find the plate number 'Plate Bar Code'\n",
    "- 4.Get LOD values of either FIA_Plate or UPLC from step2 and step3.\n",
    "\n",
    "FIA Analytes:\n",
    "- acylcarnitines\n",
    "- lysophosphatidylcholines\n",
    "- phosphatidylcholines\n",
    "- sphingomyelins\n",
    "- ceramides\n",
    "- dihydroceramides\n",
    "- hexosylceramides\n",
    "- dihexosylceramides\n",
    "- trihexosylceramides\n",
    "- cholesteryl esters\n",
    "- diglycerides\n",
    "- triglycerides\n",
    "\n",
    "UPLC Analytes:\n",
    "- alkaloids\t\t\t\t\n",
    "- amine oxides\t\t\t\n",
    "- amino acids\t\t\t\n",
    "- amino acids related\t\n",
    "- bile acids\t\t\t\t\n",
    "- biogenic amines\t\t\n",
    "- carbohydrates and related\t\n",
    "- carboxylic acids\t\t\t\n",
    "- cresols\t\t\t\t\t\n",
    "- fatty acids\t\t\t\t\n",
    "- hormones and related\t\t\n",
    "- indoles and derivatives\t\n",
    "- nucleobases and related\t\n",
    "- vitamins and cofactors"
   ]
  },
  {
   "attachments": {},
   "cell_type": "markdown",
   "metadata": {},
   "source": [
    "## Log2 transformation"
   ]
  },
  {
   "cell_type": "code",
   "execution_count": 26,
   "metadata": {},
   "outputs": [],
   "source": [
    "analytes5_meta,sample5_meta,data5_df,srm5_df,spqc5_df=process_xlsx(dataFileName,5)"
   ]
  },
  {
   "cell_type": "code",
   "execution_count": 27,
   "metadata": {},
   "outputs": [],
   "source": [
    "analytes6_meta,sample6_meta,data6_df,srm6_df,spqc6_df=process_xlsx(dataFileName,6)"
   ]
  },
  {
   "cell_type": "code",
   "execution_count": 28,
   "metadata": {},
   "outputs": [],
   "source": [
    "data6_df=data6_df.astype(float)#data6_df.shape"
   ]
  },
  {
   "cell_type": "code",
   "execution_count": 29,
   "metadata": {},
   "outputs": [
    {
     "data": {
      "text/html": [
       "<div>\n",
       "<style scoped>\n",
       "    .dataframe tbody tr th:only-of-type {\n",
       "        vertical-align: middle;\n",
       "    }\n",
       "\n",
       "    .dataframe tbody tr th {\n",
       "        vertical-align: top;\n",
       "    }\n",
       "\n",
       "    .dataframe thead th {\n",
       "        text-align: right;\n",
       "    }\n",
       "</style>\n",
       "<table border=\"1\" class=\"dataframe\">\n",
       "  <thead>\n",
       "    <tr style=\"text-align: right;\">\n",
       "      <th></th>\n",
       "      <th>C0</th>\n",
       "      <th>C2</th>\n",
       "      <th>C3</th>\n",
       "      <th>C3-DC (C4-OH)</th>\n",
       "      <th>C3-OH</th>\n",
       "      <th>C3:1</th>\n",
       "      <th>C4</th>\n",
       "      <th>C4:1</th>\n",
       "      <th>C5</th>\n",
       "      <th>C5-DC (C6-OH)</th>\n",
       "      <th>...</th>\n",
       "      <th>Sum of VLCFA-LysoPCs</th>\n",
       "      <th>Ratio of PCs (aa) to Choline</th>\n",
       "      <th>Sum of Purines</th>\n",
       "      <th>Xanthine Synthesis</th>\n",
       "      <th>Ratio of SM-OHs to SM-Non OHs</th>\n",
       "      <th>Sum of LCFA-SMs</th>\n",
       "      <th>Sum of SM-Non OHs</th>\n",
       "      <th>Sum of SM-OHs</th>\n",
       "      <th>Sum of SMs</th>\n",
       "      <th>Sum of VLCFA-SMs</th>\n",
       "    </tr>\n",
       "  </thead>\n",
       "  <tbody>\n",
       "    <tr>\n",
       "      <th>12</th>\n",
       "      <td>2.647698</td>\n",
       "      <td>0.263034</td>\n",
       "      <td>-3.928695</td>\n",
       "      <td>-3.698998</td>\n",
       "      <td>-1.967664</td>\n",
       "      <td>-2.816037</td>\n",
       "      <td>-4.246966</td>\n",
       "      <td>-5.297136</td>\n",
       "      <td>-4.917025</td>\n",
       "      <td>-4.584963</td>\n",
       "      <td>...</td>\n",
       "      <td>-0.043943</td>\n",
       "      <td>2.104337</td>\n",
       "      <td>6.297681</td>\n",
       "      <td>-4.256126</td>\n",
       "      <td>-7.333516</td>\n",
       "      <td>5.745954</td>\n",
       "      <td>5.946419</td>\n",
       "      <td>0.193246</td>\n",
       "      <td>5.969626</td>\n",
       "      <td>3.142958</td>\n",
       "    </tr>\n",
       "    <tr>\n",
       "      <th>13</th>\n",
       "      <td>3.387730</td>\n",
       "      <td>1.694509</td>\n",
       "      <td>-3.298081</td>\n",
       "      <td>-3.023270</td>\n",
       "      <td>-2.031111</td>\n",
       "      <td>-2.839940</td>\n",
       "      <td>-3.283960</td>\n",
       "      <td>-5.297136</td>\n",
       "      <td>-3.822826</td>\n",
       "      <td>-4.237864</td>\n",
       "      <td>...</td>\n",
       "      <td>0.106572</td>\n",
       "      <td>2.341037</td>\n",
       "      <td>6.502500</td>\n",
       "      <td>-4.705257</td>\n",
       "      <td>-7.137965</td>\n",
       "      <td>5.954196</td>\n",
       "      <td>6.149747</td>\n",
       "      <td>0.597730</td>\n",
       "      <td>6.183222</td>\n",
       "      <td>3.419539</td>\n",
       "    </tr>\n",
       "    <tr>\n",
       "      <th>14</th>\n",
       "      <td>2.861294</td>\n",
       "      <td>1.150560</td>\n",
       "      <td>-3.602380</td>\n",
       "      <td>-2.954557</td>\n",
       "      <td>-1.965784</td>\n",
       "      <td>-2.799203</td>\n",
       "      <td>-3.822826</td>\n",
       "      <td>-5.216250</td>\n",
       "      <td>-4.782562</td>\n",
       "      <td>-3.906891</td>\n",
       "      <td>...</td>\n",
       "      <td>-0.029146</td>\n",
       "      <td>2.302563</td>\n",
       "      <td>6.080373</td>\n",
       "      <td>-4.431806</td>\n",
       "      <td>-7.349113</td>\n",
       "      <td>5.807355</td>\n",
       "      <td>6.007495</td>\n",
       "      <td>0.242857</td>\n",
       "      <td>6.037089</td>\n",
       "      <td>3.247928</td>\n",
       "    </tr>\n",
       "    <tr>\n",
       "      <th>15</th>\n",
       "      <td>2.655352</td>\n",
       "      <td>0.847997</td>\n",
       "      <td>-4.066931</td>\n",
       "      <td>-3.511828</td>\n",
       "      <td>-2.385840</td>\n",
       "      <td>-2.996158</td>\n",
       "      <td>-4.495464</td>\n",
       "      <td>-5.668104</td>\n",
       "      <td>-4.892535</td>\n",
       "      <td>-4.265345</td>\n",
       "      <td>...</td>\n",
       "      <td>0.023847</td>\n",
       "      <td>2.560715</td>\n",
       "      <td>6.321928</td>\n",
       "      <td>-4.573467</td>\n",
       "      <td>-7.287712</td>\n",
       "      <td>5.977280</td>\n",
       "      <td>6.169925</td>\n",
       "      <td>0.464668</td>\n",
       "      <td>6.196397</td>\n",
       "      <td>3.359896</td>\n",
       "    </tr>\n",
       "    <tr>\n",
       "      <th>16</th>\n",
       "      <td>2.450661</td>\n",
       "      <td>0.861294</td>\n",
       "      <td>-3.473931</td>\n",
       "      <td>-3.326745</td>\n",
       "      <td>-2.258425</td>\n",
       "      <td>-2.936037</td>\n",
       "      <td>-3.936037</td>\n",
       "      <td>-5.497635</td>\n",
       "      <td>-4.668104</td>\n",
       "      <td>-4.202019</td>\n",
       "      <td>...</td>\n",
       "      <td>0.128733</td>\n",
       "      <td>3.029747</td>\n",
       "      <td>5.403722</td>\n",
       "      <td>-4.312342</td>\n",
       "      <td>-7.438047</td>\n",
       "      <td>6.108524</td>\n",
       "      <td>6.254241</td>\n",
       "      <td>0.393233</td>\n",
       "      <td>6.273018</td>\n",
       "      <td>3.064653</td>\n",
       "    </tr>\n",
       "    <tr>\n",
       "      <th>...</th>\n",
       "      <td>...</td>\n",
       "      <td>...</td>\n",
       "      <td>...</td>\n",
       "      <td>...</td>\n",
       "      <td>...</td>\n",
       "      <td>...</td>\n",
       "      <td>...</td>\n",
       "      <td>...</td>\n",
       "      <td>...</td>\n",
       "      <td>...</td>\n",
       "      <td>...</td>\n",
       "      <td>...</td>\n",
       "      <td>...</td>\n",
       "      <td>...</td>\n",
       "      <td>...</td>\n",
       "      <td>...</td>\n",
       "      <td>...</td>\n",
       "      <td>...</td>\n",
       "      <td>...</td>\n",
       "      <td>...</td>\n",
       "      <td>...</td>\n",
       "    </tr>\n",
       "    <tr>\n",
       "      <th>76</th>\n",
       "      <td>3.153805</td>\n",
       "      <td>1.635367</td>\n",
       "      <td>-3.210897</td>\n",
       "      <td>-2.857260</td>\n",
       "      <td>-2.009650</td>\n",
       "      <td>-1.009650</td>\n",
       "      <td>-3.479284</td>\n",
       "      <td>-5.308525</td>\n",
       "      <td>-3.857260</td>\n",
       "      <td>-3.871267</td>\n",
       "      <td>...</td>\n",
       "      <td>0.246915</td>\n",
       "      <td>2.180572</td>\n",
       "      <td>6.163230</td>\n",
       "      <td>-4.442222</td>\n",
       "      <td>-7.624747</td>\n",
       "      <td>5.961932</td>\n",
       "      <td>6.108524</td>\n",
       "      <td>0.065802</td>\n",
       "      <td>6.129283</td>\n",
       "      <td>2.963474</td>\n",
       "    </tr>\n",
       "    <tr>\n",
       "      <th>77</th>\n",
       "      <td>3.164572</td>\n",
       "      <td>1.611959</td>\n",
       "      <td>-3.197600</td>\n",
       "      <td>-2.843388</td>\n",
       "      <td>-2.027185</td>\n",
       "      <td>-1.029146</td>\n",
       "      <td>-3.473931</td>\n",
       "      <td>-5.265345</td>\n",
       "      <td>-4.050901</td>\n",
       "      <td>-3.885411</td>\n",
       "      <td>...</td>\n",
       "      <td>0.209973</td>\n",
       "      <td>2.212050</td>\n",
       "      <td>6.129283</td>\n",
       "      <td>-4.370838</td>\n",
       "      <td>-7.596550</td>\n",
       "      <td>6.007495</td>\n",
       "      <td>6.156504</td>\n",
       "      <td>0.146221</td>\n",
       "      <td>6.183222</td>\n",
       "      <td>3.047306</td>\n",
       "    </tr>\n",
       "    <tr>\n",
       "      <th>78</th>\n",
       "      <td>3.126532</td>\n",
       "      <td>1.616671</td>\n",
       "      <td>-3.233334</td>\n",
       "      <td>-2.772670</td>\n",
       "      <td>-2.085180</td>\n",
       "      <td>-2.792524</td>\n",
       "      <td>-3.452715</td>\n",
       "      <td>-5.323853</td>\n",
       "      <td>-4.302819</td>\n",
       "      <td>-3.878321</td>\n",
       "      <td>...</td>\n",
       "      <td>0.184809</td>\n",
       "      <td>2.201634</td>\n",
       "      <td>6.169925</td>\n",
       "      <td>-4.341293</td>\n",
       "      <td>-7.578054</td>\n",
       "      <td>5.930737</td>\n",
       "      <td>6.087463</td>\n",
       "      <td>0.093109</td>\n",
       "      <td>6.108524</td>\n",
       "      <td>3.005999</td>\n",
       "    </tr>\n",
       "    <tr>\n",
       "      <th>79</th>\n",
       "      <td>3.053111</td>\n",
       "      <td>1.454176</td>\n",
       "      <td>-3.317127</td>\n",
       "      <td>-2.928695</td>\n",
       "      <td>-1.910502</td>\n",
       "      <td>-2.753085</td>\n",
       "      <td>-3.479284</td>\n",
       "      <td>-5.239680</td>\n",
       "      <td>-4.421464</td>\n",
       "      <td>-3.996158</td>\n",
       "      <td>...</td>\n",
       "      <td>0.163499</td>\n",
       "      <td>2.035624</td>\n",
       "      <td>6.247928</td>\n",
       "      <td>-4.312342</td>\n",
       "      <td>-7.568894</td>\n",
       "      <td>5.890771</td>\n",
       "      <td>6.044394</td>\n",
       "      <td>0.061200</td>\n",
       "      <td>6.066089</td>\n",
       "      <td>2.963474</td>\n",
       "    </tr>\n",
       "    <tr>\n",
       "      <th>80</th>\n",
       "      <td>3.064653</td>\n",
       "      <td>1.436517</td>\n",
       "      <td>-3.331578</td>\n",
       "      <td>-2.988504</td>\n",
       "      <td>-2.019365</td>\n",
       "      <td>-2.839940</td>\n",
       "      <td>-3.539520</td>\n",
       "      <td>-5.331578</td>\n",
       "      <td>-4.484658</td>\n",
       "      <td>-4.083141</td>\n",
       "      <td>...</td>\n",
       "      <td>0.124328</td>\n",
       "      <td>2.115477</td>\n",
       "      <td>6.122397</td>\n",
       "      <td>-4.265345</td>\n",
       "      <td>-7.605888</td>\n",
       "      <td>5.914883</td>\n",
       "      <td>6.066089</td>\n",
       "      <td>0.047306</td>\n",
       "      <td>6.087463</td>\n",
       "      <td>2.957296</td>\n",
       "    </tr>\n",
       "  </tbody>\n",
       "</table>\n",
       "<p>69 rows × 382 columns</p>\n",
       "</div>"
      ],
      "text/plain": [
       "          C0        C2        C3  C3-DC (C4-OH)     C3-OH      C3:1        C4  \\\n",
       "12  2.647698  0.263034 -3.928695      -3.698998 -1.967664 -2.816037 -4.246966   \n",
       "13  3.387730  1.694509 -3.298081      -3.023270 -2.031111 -2.839940 -3.283960   \n",
       "14  2.861294  1.150560 -3.602380      -2.954557 -1.965784 -2.799203 -3.822826   \n",
       "15  2.655352  0.847997 -4.066931      -3.511828 -2.385840 -2.996158 -4.495464   \n",
       "16  2.450661  0.861294 -3.473931      -3.326745 -2.258425 -2.936037 -3.936037   \n",
       "..       ...       ...       ...            ...       ...       ...       ...   \n",
       "76  3.153805  1.635367 -3.210897      -2.857260 -2.009650 -1.009650 -3.479284   \n",
       "77  3.164572  1.611959 -3.197600      -2.843388 -2.027185 -1.029146 -3.473931   \n",
       "78  3.126532  1.616671 -3.233334      -2.772670 -2.085180 -2.792524 -3.452715   \n",
       "79  3.053111  1.454176 -3.317127      -2.928695 -1.910502 -2.753085 -3.479284   \n",
       "80  3.064653  1.436517 -3.331578      -2.988504 -2.019365 -2.839940 -3.539520   \n",
       "\n",
       "        C4:1        C5  C5-DC (C6-OH)  ...  Sum of VLCFA-LysoPCs  \\\n",
       "12 -5.297136 -4.917025      -4.584963  ...             -0.043943   \n",
       "13 -5.297136 -3.822826      -4.237864  ...              0.106572   \n",
       "14 -5.216250 -4.782562      -3.906891  ...             -0.029146   \n",
       "15 -5.668104 -4.892535      -4.265345  ...              0.023847   \n",
       "16 -5.497635 -4.668104      -4.202019  ...              0.128733   \n",
       "..       ...       ...            ...  ...                   ...   \n",
       "76 -5.308525 -3.857260      -3.871267  ...              0.246915   \n",
       "77 -5.265345 -4.050901      -3.885411  ...              0.209973   \n",
       "78 -5.323853 -4.302819      -3.878321  ...              0.184809   \n",
       "79 -5.239680 -4.421464      -3.996158  ...              0.163499   \n",
       "80 -5.331578 -4.484658      -4.083141  ...              0.124328   \n",
       "\n",
       "    Ratio of PCs (aa) to Choline  Sum of Purines  Xanthine Synthesis  \\\n",
       "12                      2.104337        6.297681           -4.256126   \n",
       "13                      2.341037        6.502500           -4.705257   \n",
       "14                      2.302563        6.080373           -4.431806   \n",
       "15                      2.560715        6.321928           -4.573467   \n",
       "16                      3.029747        5.403722           -4.312342   \n",
       "..                           ...             ...                 ...   \n",
       "76                      2.180572        6.163230           -4.442222   \n",
       "77                      2.212050        6.129283           -4.370838   \n",
       "78                      2.201634        6.169925           -4.341293   \n",
       "79                      2.035624        6.247928           -4.312342   \n",
       "80                      2.115477        6.122397           -4.265345   \n",
       "\n",
       "    Ratio of SM-OHs to SM-Non OHs  Sum of LCFA-SMs  Sum of SM-Non OHs  \\\n",
       "12                      -7.333516         5.745954           5.946419   \n",
       "13                      -7.137965         5.954196           6.149747   \n",
       "14                      -7.349113         5.807355           6.007495   \n",
       "15                      -7.287712         5.977280           6.169925   \n",
       "16                      -7.438047         6.108524           6.254241   \n",
       "..                            ...              ...                ...   \n",
       "76                      -7.624747         5.961932           6.108524   \n",
       "77                      -7.596550         6.007495           6.156504   \n",
       "78                      -7.578054         5.930737           6.087463   \n",
       "79                      -7.568894         5.890771           6.044394   \n",
       "80                      -7.605888         5.914883           6.066089   \n",
       "\n",
       "    Sum of SM-OHs  Sum of SMs  Sum of VLCFA-SMs  \n",
       "12       0.193246    5.969626          3.142958  \n",
       "13       0.597730    6.183222          3.419539  \n",
       "14       0.242857    6.037089          3.247928  \n",
       "15       0.464668    6.196397          3.359896  \n",
       "16       0.393233    6.273018          3.064653  \n",
       "..            ...         ...               ...  \n",
       "76       0.065802    6.129283          2.963474  \n",
       "77       0.146221    6.183222          3.047306  \n",
       "78       0.093109    6.108524          3.005999  \n",
       "79       0.061200    6.066089          2.963474  \n",
       "80       0.047306    6.087463          2.957296  \n",
       "\n",
       "[69 rows x 382 columns]"
      ]
     },
     "execution_count": 29,
     "metadata": {},
     "output_type": "execute_result"
    }
   ],
   "source": [
    "data6_df"
   ]
  },
  {
   "cell_type": "code",
   "execution_count": 30,
   "metadata": {},
   "outputs": [],
   "source": [
    "data5_df=data5_df.astype(float)"
   ]
  },
  {
   "cell_type": "code",
   "execution_count": 31,
   "metadata": {},
   "outputs": [
    {
     "name": "stdout",
     "output_type": "stream",
     "text": [
      "0 335 9.999999999999999e-05 BABA Synthesis\n",
      "24 335 9.999999999999999e-05 BABA Synthesis\n",
      "30 335 6.666666666666667e-05 BABA Synthesis\n",
      "38 335 9.999999999999999e-05 BABA Synthesis\n",
      "54 335 6.666666666666667e-05 BABA Synthesis\n",
      "55 335 6.666666666666667e-05 BABA Synthesis\n",
      "57 266 0.0 TG(20:3_36:4)\n"
     ]
    }
   ],
   "source": [
    "for i in range(data5_df.shape[0]):\n",
    "    for j in range(data5_df.shape[1]):\n",
    "        if data5_df.iloc[i,j]<0.0001:\n",
    "            print(i,j,data5_df.iloc[i,j],data5_df.columns[j])\n",
    "            #print(data5_df.columns[j])"
   ]
  },
  {
   "cell_type": "code",
   "execution_count": 32,
   "metadata": {},
   "outputs": [
    {
     "name": "stderr",
     "output_type": "stream",
     "text": [
      "/Users/yshang/opt/miniconda3/envs/py39/lib/python3.9/site-packages/pandas/core/internals/blocks.py:351: RuntimeWarning: divide by zero encountered in log2\n",
      "  result = func(self.values, **kwargs)\n"
     ]
    }
   ],
   "source": [
    "data5_df_log2=np.log2(data5_df)"
   ]
  },
  {
   "cell_type": "code",
   "execution_count": 33,
   "metadata": {},
   "outputs": [
    {
     "data": {
      "text/plain": [
       "-inf"
      ]
     },
     "execution_count": 33,
     "metadata": {},
     "output_type": "execute_result"
    }
   ],
   "source": [
    "data5_df_log2.iloc[57,266]"
   ]
  },
  {
   "attachments": {},
   "cell_type": "markdown",
   "metadata": {},
   "source": [
    "# Save Data\n",
    "get data only for compounds in the list of spqc3_df.columns[~np.array(filter2_spqc)]"
   ]
  },
  {
   "cell_type": "code",
   "execution_count": 34,
   "metadata": {},
   "outputs": [],
   "source": [
    "#Save Data\n",
    "data5_df_log2_filter = data5_df_log2[spqc3_df.columns[~np.array(filter2_spqc)]]\n",
    "data5_df_filter = data5_df[spqc3_df.columns[~np.array(filter2_spqc)]]"
   ]
  },
  {
   "cell_type": "code",
   "execution_count": 35,
   "metadata": {},
   "outputs": [
    {
     "data": {
      "text/plain": [
       "(58, 331)"
      ]
     },
     "execution_count": 35,
     "metadata": {},
     "output_type": "execute_result"
    }
   ],
   "source": [
    "data5_df_log2_filter.shape"
   ]
  },
  {
   "cell_type": "code",
   "execution_count": 36,
   "metadata": {},
   "outputs": [
    {
     "data": {
      "text/plain": [
       "(58, 382)"
      ]
     },
     "execution_count": 36,
     "metadata": {},
     "output_type": "execute_result"
    }
   ],
   "source": [
    "data5_df_log2.shape"
   ]
  },
  {
   "cell_type": "code",
   "execution_count": 37,
   "metadata": {},
   "outputs": [
    {
     "data": {
      "text/plain": [
       "array(['S863', 'S864', 'S870', 'S947', 'S948', 'S949', 'S951', 'S956',\n",
       "       'S957', 'S958', 'S959', 'S960', 'S961', 'S962', 'S963', 'S968',\n",
       "       'S970', 'S971', 'S974', 'S975', 'S976', 'S977', 'S978', 'S979',\n",
       "       'S980', 'S981', 'S982', 'S983', 'S984', 'S985', 'S986', 'S987',\n",
       "       'S988', 'S991', 'S992', 'S993', 'S994', 'S1002', 'S1003', 'S1026',\n",
       "       'S1027', 'S1028', 'S1029', 'S1033', 'S1034', 'S1035', 'S1036',\n",
       "       'S1037', 'S1038', 'S1124', 'S1125', 'S1324', 'S1325', 'S1326',\n",
       "       'S1330', 'S1440', 'S1442', 'S1443'], dtype=object)"
      ]
     },
     "execution_count": 37,
     "metadata": {},
     "output_type": "execute_result"
    }
   ],
   "source": [
    "sample5_meta[\"SampleID\"].values"
   ]
  },
  {
   "cell_type": "code",
   "execution_count": 38,
   "metadata": {},
   "outputs": [],
   "source": [
    "data5_df_log2_filter.insert(loc=0, column=\"SampleID\", value=sample5_meta[\"SampleID\"].values)\n"
   ]
  },
  {
   "cell_type": "code",
   "execution_count": 39,
   "metadata": {},
   "outputs": [],
   "source": [
    "data5_df_filter.insert(loc=0, column=\"SampleID\", value=sample5_meta[\"SampleID\"].values)\n"
   ]
  },
  {
   "cell_type": "code",
   "execution_count": 40,
   "metadata": {},
   "outputs": [],
   "source": [
    "data5_df_log2_filter.to_csv(\"../data/brain_log2_notscaled.csv\")"
   ]
  },
  {
   "cell_type": "code",
   "execution_count": 41,
   "metadata": {},
   "outputs": [],
   "source": [
    "data5_df_filter.to_csv(\"../data/brain_notscaled.csv\")"
   ]
  },
  {
   "cell_type": "code",
   "execution_count": 42,
   "metadata": {},
   "outputs": [],
   "source": [
    "data5_df_meta = df_18m.merge(sample5_meta,on=\"SampleID\")"
   ]
  },
  {
   "cell_type": "code",
   "execution_count": 43,
   "metadata": {},
   "outputs": [
    {
     "data": {
      "text/html": [
       "<div>\n",
       "<style scoped>\n",
       "    .dataframe tbody tr th:only-of-type {\n",
       "        vertical-align: middle;\n",
       "    }\n",
       "\n",
       "    .dataframe tbody tr th {\n",
       "        vertical-align: top;\n",
       "    }\n",
       "\n",
       "    .dataframe thead th {\n",
       "        text-align: right;\n",
       "    }\n",
       "</style>\n",
       "<table border=\"1\" class=\"dataframe\">\n",
       "  <thead>\n",
       "    <tr style=\"text-align: right;\">\n",
       "      <th></th>\n",
       "      <th>SampleID</th>\n",
       "      <th>Sex</th>\n",
       "      <th>Apoe</th>\n",
       "      <th>Age</th>\n",
       "      <th>Fur_Condition_Notes</th>\n",
       "      <th>Date_of_Birth</th>\n",
       "      <th>Necropsy_Date</th>\n",
       "    </tr>\n",
       "  </thead>\n",
       "  <tbody>\n",
       "    <tr>\n",
       "      <th>0</th>\n",
       "      <td>S863</td>\n",
       "      <td>Male</td>\n",
       "      <td>APOE4</td>\n",
       "      <td>18.779754</td>\n",
       "      <td>bad</td>\n",
       "      <td>2019-02-09</td>\n",
       "      <td>44077</td>\n",
       "    </tr>\n",
       "    <tr>\n",
       "      <th>1</th>\n",
       "      <td>S864</td>\n",
       "      <td>Male</td>\n",
       "      <td>APOE4</td>\n",
       "      <td>18.779754</td>\n",
       "      <td>ok, hair loss on underside</td>\n",
       "      <td>2019-02-09</td>\n",
       "      <td>44077</td>\n",
       "    </tr>\n",
       "    <tr>\n",
       "      <th>2</th>\n",
       "      <td>S870</td>\n",
       "      <td>Female</td>\n",
       "      <td>APOE4</td>\n",
       "      <td>18.779754</td>\n",
       "      <td>bad, lots of fat around organs</td>\n",
       "      <td>2019-02-09</td>\n",
       "      <td>44077</td>\n",
       "    </tr>\n",
       "    <tr>\n",
       "      <th>3</th>\n",
       "      <td>S947</td>\n",
       "      <td>Female</td>\n",
       "      <td>APOE3</td>\n",
       "      <td>18.615595</td>\n",
       "      <td>good</td>\n",
       "      <td>2019-02-19</td>\n",
       "      <td>44082</td>\n",
       "    </tr>\n",
       "    <tr>\n",
       "      <th>4</th>\n",
       "      <td>S948</td>\n",
       "      <td>Female</td>\n",
       "      <td>APOE3</td>\n",
       "      <td>18.615595</td>\n",
       "      <td>good</td>\n",
       "      <td>2019-02-19</td>\n",
       "      <td>44082</td>\n",
       "    </tr>\n",
       "  </tbody>\n",
       "</table>\n",
       "</div>"
      ],
      "text/plain": [
       "  SampleID     Sex   Apoe        Age             Fur_Condition_Notes  \\\n",
       "0     S863    Male  APOE4  18.779754                             bad   \n",
       "1     S864    Male  APOE4  18.779754      ok, hair loss on underside   \n",
       "2     S870  Female  APOE4  18.779754  bad, lots of fat around organs   \n",
       "3     S947  Female  APOE3  18.615595                            good   \n",
       "4     S948  Female  APOE3  18.615595                            good   \n",
       "\n",
       "  Date_of_Birth  Necropsy_Date  \n",
       "0    2019-02-09          44077  \n",
       "1    2019-02-09          44077  \n",
       "2    2019-02-09          44077  \n",
       "3    2019-02-19          44082  \n",
       "4    2019-02-19          44082  "
      ]
     },
     "execution_count": 43,
     "metadata": {},
     "output_type": "execute_result"
    }
   ],
   "source": [
    "df_18m.iloc[0:5,:]"
   ]
  },
  {
   "cell_type": "code",
   "execution_count": 44,
   "metadata": {},
   "outputs": [],
   "source": [
    "data5_df_meta.to_csv(\"../data/brain_meta.csv\")"
   ]
  }
 ],
 "metadata": {
  "kernelspec": {
   "display_name": "base",
   "language": "python",
   "name": "python3"
  },
  "language_info": {
   "codemirror_mode": {
    "name": "ipython",
    "version": 3
   },
   "file_extension": ".py",
   "mimetype": "text/x-python",
   "name": "python",
   "nbconvert_exporter": "python",
   "pygments_lexer": "ipython3",
   "version": "3.12.7"
  },
  "orig_nbformat": 4
 },
 "nbformat": 4,
 "nbformat_minor": 2
}
